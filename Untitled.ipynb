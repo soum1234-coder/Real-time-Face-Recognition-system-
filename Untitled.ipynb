{
 "cells": [
  {
   "cell_type": "code",
   "execution_count": 2,
   "id": "43dce10b",
   "metadata": {},
   "outputs": [
    {
     "name": "stdout",
     "output_type": "stream",
     "text": [
      "Enter user id1\n"
     ]
    }
   ],
   "source": [
    "import cv2\n",
    "face_detect=cv2.CascadeClassifier('haarcascade_frontalface_default.xml')\n",
    "video=cv2.VideoCapture(0)\n",
    "id=input('Enter user id')\n",
    "sampleNum=0\n",
    "while True:\n",
    "    check,frame=video.read()\n",
    "    gray=cv2.cvtColor(frame,cv2.COLOR_BGR2GRAY)\n",
    "    face=face_detect.detectMultiScale(gray,scaleFactor=1.05,minNeighbors=15)\n",
    "    for (x,y,w,h) in face:\n",
    "        sampleNum=sampleNum+1\n",
    "        cv2.imwrite('Datasets//User.'+str(id)+\".\"+str(sampleNum)+\".jpg\",gray[y:y+h,x:x+w])\n",
    "        cv2.rectangle(frame,(x,y),(x+w,y+h),(255,0,0),2)\n",
    "        cv2.waitKey(100);\n",
    "    cv2.imshow(\"Kunu\",frame)\n",
    "    cv2.waitKey(1);\n",
    "    if(sampleNum>40):\n",
    "        break\n",
    "video.release()\n",
    "cv2.destroyAllWindows()\n"
   ]
  },
  {
   "cell_type": "code",
   "execution_count": 4,
   "id": "fb02ee83",
   "metadata": {},
   "outputs": [],
   "source": [
    "import cv2,os\n",
    "import numpy as np\n",
    "from PIL import Image\n",
    "\n",
    "recognizer = cv2.face.LBPHFaceRecognizer_create()\n",
    "detector= cv2.CascadeClassifier('haarcascade_frontalface_default.xml');\n",
    "path=(\"Datasets\")\n",
    "\n",
    "def getImagesAndLabels(path):\n",
    "    #get the path of all the files in the folder\n",
    "    imagePaths=[os.path.join(path,f) for f in os.listdir(path)] \n",
    "    #create empth face list\n",
    "    faceSamples=[]\n",
    "    #create empty ID list\n",
    "    Ids=[]\n",
    "    #now looping through all the image paths and loading the Ids and the images\n",
    "    for imagePath in imagePaths:\n",
    "        #loading the image and converting it to gray scale\n",
    "        pilImage=Image.open(imagePath).convert('L')\n",
    "        #Now we are converting the PIL image into numpy array\n",
    "        imageNp=np.array(pilImage,'uint8')\n",
    "        #getting the Id from the image\n",
    "        Id=int(os.path.split(imagePath)[-1].split(\".\")[1])\n",
    "        # extract the face from the training image sample\n",
    "        faces=detector.detectMultiScale(imageNp)\n",
    "        #If a face is there then append that in the list as well as Id of it\n",
    "        for (x,y,w,h) in faces:\n",
    "            faceSamples.append(imageNp[y:y+h,x:x+w])\n",
    "            Ids.append(Id)\n",
    "    return faceSamples,Ids\n",
    "\n",
    "\n",
    "faces,Ids = getImagesAndLabels(path)\n",
    "recognizer.train(faces, np.array(Ids))\n",
    "recognizer.save('recognizer\\\\trainner.yml')\n",
    "cv2.destroyAllWindows()"
   ]
  },
  {
   "cell_type": "markdown",
   "id": "8882ff69",
   "metadata": {},
   "source": [
    "# Test Your Data"
   ]
  },
  {
   "cell_type": "code",
   "execution_count": null,
   "id": "f011e49e",
   "metadata": {},
   "outputs": [],
   "source": [
    "import cv2\n",
    "face_detect=cv2.CascadeClassifier('haarcascade_frontalface_default.xml')\n",
    "video=cv2.VideoCapture(0)\n",
    "rec=cv2.face.LBPHFaceRecognizer_create()\n",
    "rec.read(\"recognizer\\\\trainner.yml\")\n",
    "         \n",
    "id=0\n",
    "font=cv2.FONT_HERSHEY_SIMPLEX\n",
    "\n",
    "while True:\n",
    "    __,frame=video.read()\n",
    "    gray=cv2.cvtColor(frame,cv2.COLOR_BGR2GRAY)\n",
    "    face=face_detect.detectMultiScale(gray,scaleFactor=1.1,minNeighbors=15)\n",
    "    for (x,y,w,h) in face:\n",
    "        cv2.rectangle(frame,(x,y),(x+w++3,y+h++3),(255,0,0),2)\n",
    "        id,conf=rec.predict(gray[y:y+h,x:x+w])\n",
    "        if (id==1):\n",
    "            id='Kunu'\n",
    "        elif(id==2):\n",
    "            id='junu'\n",
    "        cv2.putText(frame,str(id),(x+h,y),font,1,(255,0,255),2);\n",
    "    cv2.imshow(\"Kunu\",frame)\n",
    "    key=cv2.waitKey(1)\n",
    "    if key==ord('k'):\n",
    "        break\n",
    "video.release()\n",
    "cv2.destroyAllWindows()"
   ]
  },
  {
   "cell_type": "code",
   "execution_count": null,
   "id": "cd611e5e",
   "metadata": {},
   "outputs": [],
   "source": []
  }
 ],
 "metadata": {
  "kernelspec": {
   "display_name": "Python 3",
   "language": "python",
   "name": "python3"
  },
  "language_info": {
   "codemirror_mode": {
    "name": "ipython",
    "version": 3
   },
   "file_extension": ".py",
   "mimetype": "text/x-python",
   "name": "python",
   "nbconvert_exporter": "python",
   "pygments_lexer": "ipython3",
   "version": "3.8.8"
  }
 },
 "nbformat": 4,
 "nbformat_minor": 5
}
